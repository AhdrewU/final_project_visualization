{
 "cells": [
  {
   "cell_type": "markdown",
   "source": [
    "# download data"
   ],
   "metadata": {
    "collapsed": false
   }
  },
  {
   "cell_type": "code",
   "execution_count": null,
   "metadata": {
    "jupyter": {
     "outputs_hidden": false
    }
   },
   "outputs": [],
   "source": [
    "! curl \\\n",
    "    --header 'Host: data.gov.ua' \\\n",
    "    --user-agent 'Mozilla/5.0 (X11; Ubuntu; Linux x86_64; rv:108.0) Gecko/20100101 Firefox/108.0' \\\n",
    "    --header 'Accept: text/html,application/xhtml+xml,application/xml;q=0.9,image/avif,image/webp,*/*;q=0.8' \\\n",
    "    --header 'Accept-Language: en-US,en;q=0.5' \\\n",
    "    --referer 'https://data.gov.ua/dataset/470196d3-4e7a-46b0-8c0c-883b74ac65f0' \\\n",
    "    --cookie '_ga=GA1.3.2116747368.1671616277; _gid=GA1.3.145106975.1673376918; _gat=1' \\\n",
    "    --header 'Upgrade-Insecure-Requests: 1' \\\n",
    "    --header 'Sec-Fetch-Dest: document' \\\n",
    "    --header 'Sec-Fetch-Mode: navigate' \\\n",
    "    --header 'Sec-Fetch-Site: same-origin' \\\n",
    "    --header 'Sec-Fetch-User: ?1' 'https://data.gov.ua/dataset/8851831d-b5ce-4ca8-8685-eafbc3f57eca/resource/6cfff17e-84ac-4141-b0fd-89abb68e9f31/download/mvswantedbezvesti_1.json' \\\n",
    "    --output 'data/mvswantedbezvesti_1.json'"
   ]
  },
  {
   "cell_type": "code",
   "execution_count": null,
   "metadata": {},
   "outputs": [],
   "source": [
    "! tree --gitignore --dirsfirst -C"
   ]
  },
  {
   "cell_type": "code",
   "execution_count": null,
   "outputs": [],
   "source": [
    "! cat requirements.txt"
   ],
   "metadata": {
    "collapsed": false
   }
  },
  {
   "cell_type": "markdown",
   "metadata": {},
   "source": [
    "# Pipeline"
   ]
  },
  {
   "cell_type": "code",
   "execution_count": null,
   "metadata": {
    "jupyter": {
     "outputs_hidden": false
    }
   },
   "outputs": [],
   "source": [
    "import datetime\n",
    "import json\n",
    "\n",
    "import altair as alt\n",
    "import pandas as pd\n",
    "\n",
    "alt.data_transformers.disable_max_rows()"
   ]
  },
  {
   "cell_type": "markdown",
   "source": [
    "## Get Data"
   ],
   "metadata": {
    "collapsed": false
   }
  },
  {
   "cell_type": "markdown",
   "source": [
    "### Load data"
   ],
   "metadata": {
    "collapsed": false
   }
  },
  {
   "cell_type": "code",
   "execution_count": null,
   "metadata": {
    "jupyter": {
     "outputs_hidden": false
    }
   },
   "outputs": [],
   "source": [
    "with open(\"data/mvswantedbezvesti_1.json\") as f:\n",
    "    data = json.load(f)\n",
    "df = pd.DataFrame.from_dict(data)\n",
    "print(df.shape)\n",
    "df.head()"
   ]
  },
  {
   "cell_type": "markdown",
   "source": [
    "### Investigate data"
   ],
   "metadata": {
    "collapsed": false
   }
  },
  {
   "cell_type": "code",
   "execution_count": null,
   "outputs": [],
   "source": [
    "df.RESTRAINT.unique()"
   ],
   "metadata": {
    "collapsed": false
   }
  },
  {
   "cell_type": "code",
   "execution_count": null,
   "outputs": [],
   "source": [
    "df.CATEGORY.unique()"
   ],
   "metadata": {
    "collapsed": false
   }
  },
  {
   "cell_type": "code",
   "execution_count": null,
   "outputs": [],
   "source": [
    "df.ARTICLE_CRIM.unique()"
   ],
   "metadata": {
    "collapsed": false
   }
  },
  {
   "cell_type": "markdown",
   "source": [
    "Стаття 110. Посягання на територіальну цілісність і недоторканність України\n",
    "1. Умисні дії, вчинені з метою зміни меж території або державного кордону України на порушення порядку, встановленого Конституцією України, а також публічні заклики чи розповсюдження матеріалів із закликами до вчинення таких дій, караються позбавленням волі на строк від трьох до п’яти років з конфіскацією майна або без такої.\n",
    "2. Ті самі дії, якщо вони вчинені особою, яка є представником влади, або повторно, або за попередньою змовою групою осіб, або поєднані з розпалюванням національної чи релігійної ворожнечі, караються позбавленням волі на строк від п’яти до десяти років з конфіскацією майна або без такої.\n",
    "3. Дії, передбачені частинами першою або другою цієї статті, які призвели до загибелі людей або інших тяжких наслідків, караються позбавленням волі на строк від десяти до п’ятнадцяти років або довічним позбавленням волі з конфіскацією майна або без такої.\n",
    "\n",
    "\n",
    "Стаття 146. Незаконне позбавлення волі або викрадення людини\n",
    "1. Незаконне позбавлення волі або викрадення людини караються обмеженням волі на строк до трьох років або позбавленням волі на той самий строк.\n",
    "2. Ті самі діяння, вчинені щодо малолітнього або з корисливих мотивів, щодо двох чи більше осіб або за попередньою змовою групою осіб, або способом, небезпечним для життя чи здоров'я потерпілого, або таке, що супроводжувалося заподіянням йому фізичних страждань, або із застосуванням зброї, або здійснюване протягом тривалого часу, караються обмеженням волі на строк до п'яти років або позбавленням волі на той самий строк.\n",
    "3. Діяння, передбачені частинами першою або другою цієї статті, вчинені організованою групою, або такі, що спричинили тяжкі наслідки, караються позбавленням волі на строк від п'яти до десяти років.\n",
    "\n",
    "\n",
    "Стаття 115. Умисне вбивство\n",
    "1. Вбивство, тобто умисне протиправне заподіяння смерті іншій людині, карається позбавленням волі на строк від семи до п'ятнадцяти років.\n",
    "2. Умисне вбивство:\n",
    "    1. двох або більше осіб;\n",
    "    2. малолітньої дитини або жінки, яка завідомо для винного перебувала у стані вагітності;\n",
    "    3. заручника або викраденої людини;\n",
    "    4. вчинене з особливою жорстокістю;\n",
    "    5. вчинене способом, небезпечним для життя багатьох осіб;\n",
    "    6. з корисливих мотивів;\n",
    "    7. з хуліганських мотивів;\n",
    "    8. особи чи її близького родича у зв'язку з виконанням цією особою службового або громадського обов'язку;\n",
    "    9. з метою приховати інше кримінальне правопорушення або полегшити його вчинення;\n",
    "    10. поєднане із зґвалтуванням або сексуальним насильством;\n",
    "    11. вчинене на замовлення;\n",
    "    12. вчинене за попередньою змовою групою осіб;\n",
    "    13. вчинене особою, яка раніше вчинила умисне вбивство, за винятком вбивства, передбаченого статтями 116-118 цього Кодексу;\n",
    "    14. з мотивів расової, національної чи релігійної нетерпимості, карається позбавленням волі на строк від десяти до п'ятнадцяти років або довічним позбавленням волі, з конфіскацією майна у випадку, передбаченому пунктом 6 частини другої цієї статті.\n",
    "\n",
    "\n",
    "Стаття 146-1. Насильницьке зникнення\n",
    "1. Арешт, затримання, викрадення або позбавлення волі людини в будь-якій іншій формі, вчинене представником держави, в тому числі іноземної, з подальшою відмовою визнати факт такого арешту, затримання, викрадення або позбавлення волі людини в будь-якій іншій формі або приховуванням даних про долю такої людини чи місце перебування караються позбавленням волі на строк від трьох до п’яти років.\n",
    "2. Видання наказу або розпорядження про вчинення дій, зазначених у частині першій цієї статті, або невжиття керівником, якому стало відомо про вчинення дій, зазначених у частині першій цієї статті, його підлеглими заходів для їх припинення та неповідомлення компетентних органів про злочин караються позбавленням волі на строк від п’яти до семи років.\n",
    "\n",
    "\n",
    "Стаття 438. Порушення законів та звичаїв війни\n",
    "1. Жорстоке поводження з військовополоненими або цивільним населенням, вигнання цивільного населення для примусових робіт, розграбування національних цінностей на окупованій території, застосування засобів ведення війни, заборонених міжнародним правом, інші порушення законів та звичаїв війни, що передбачені міжнародними договорами, згода на обов'язковість яких надана Верховною Радою України, а також віддання наказу про вчинення таких дій караються позбавленням волі на строк від восьми до дванадцяти років.\n",
    "2. Ті самі діяння, якщо вони поєднані з умисним вбивством, караються позбавленням волі на строк від десяти до п'ятнадцяти років або довічним позбавленням волі.\n"
   ],
   "metadata": {
    "collapsed": false
   }
  },
  {
   "cell_type": "markdown",
   "source": [
    "### Clear"
   ],
   "metadata": {
    "collapsed": false
   }
  },
  {
   "cell_type": "code",
   "execution_count": null,
   "outputs": [],
   "source": [
    "df.drop(columns=[\n",
    "    'FIRST_NAME_U',\n",
    "    'LAST_NAME_U',\n",
    "    'MIDDLE_NAME_U',\n",
    "\n",
    "    'FIRST_NAME_R',\n",
    "    'LAST_NAME_R',\n",
    "    'MIDDLE_NAME_R',\n",
    "\n",
    "    'FIRST_NAME_E',\n",
    "    'LAST_NAME_E',\n",
    "    'MIDDLE_NAME_E',\n",
    "], inplace=True)\n",
    "\n",
    "df.drop(columns=[\"RESTRAINT\", 'CATEGORY'], inplace=True)"
   ],
   "metadata": {
    "collapsed": false
   }
  },
  {
   "cell_type": "code",
   "execution_count": null,
   "outputs": [],
   "source": [
    "len_before = len(df)\n",
    "df = df[df.LOST_DATE.apply(lambda x: x < datetime.datetime.now().strftime(\"%Y-%m-%dT%H:%M:%S\"))]\n",
    "df = df[df.BIRTH_DATE.apply(lambda x: x < datetime.datetime.now().strftime(\"%Y-%m-%dT%H:%M:%S\"))]\n",
    "len_after = len(df)\n",
    "print(f\"Видалено {len_before - len_after} некоректних записи\")\n",
    "df.LOST_DATE = pd.to_datetime(df.LOST_DATE, format=\"%Y-%m-%dT%H:%M:%S\", errors=\"coerce\")\n",
    "df.BIRTH_DATE = pd.to_datetime(df.BIRTH_DATE, format=\"%Y-%m-%dT%H:%M:%S\", errors=\"coerce\")\n"
   ],
   "metadata": {
    "collapsed": false
   }
  },
  {
   "cell_type": "code",
   "execution_count": null,
   "outputs": [],
   "source": [
    "df[\"AGE\"] = (df.LOST_DATE - df.BIRTH_DATE).apply(lambda x: x.days / 365)"
   ],
   "metadata": {
    "collapsed": false
   }
  },
  {
   "cell_type": "code",
   "execution_count": null,
   "outputs": [],
   "source": [
    "df.head()"
   ],
   "metadata": {
    "collapsed": false
   }
  },
  {
   "cell_type": "markdown",
   "source": [
    "### Regex creation for ODV"
   ],
   "metadata": {
    "collapsed": false
   }
  },
  {
   "cell_type": "code",
   "execution_count": null,
   "outputs": [],
   "source": [
    "import re\n",
    "\n",
    "\"\"\"\n",
    "country -> region             -> city  -> area              -> sub_area\n",
    "Україна -> львівська область  -> Львів -> франкіський район\n",
    "\"\"\"\n",
    "new_regex0 = \"(?P<city>.*) (?:УПРАВЛІННЯ|ВІДДІЛЕННЯ|ВІДДІЛ)(?: ПОЛІЦІЇ)? {1,2}ГУ {0,1}НП (?:В|У) (?P<region>.*) ОБЛ\"\n",
    "new_regex1 = r\"(?P<area1>.*) ?(?:УПРАВЛІННЯ|ВІДДІЛЕННЯ|ВІДДІЛ)(?: ПОЛІЦІЇ)? ?(?P<number>№\\d)?(?: (?P<city1>.*) ВІДДІЛУ?)?(?: ПОЛІЦІЇ)? ГУ {0,1}НП (?:В|У|) ?(?P<region1>.*) (?:ОБЛ\\.|ОБЛАСТІ)\"\n",
    "\"\"\"Examples for regex1: # Please use regex101.com to validate\n",
    "1)\n",
    "ЧЕЧЕЛІВСЬКЕ ВІДДІЛЕННЯ ПОЛІЦІЇ ДНІПРОВСЬКОГО ВІДДІЛУ ГУНП В ДНІПРОПЕТРОВСЬКІЙ ОБЛ.\n",
    "П'ЯТИХАТСЬКЕ ВІДДІЛЕННЯ ПОЛІЦІЇ ЖОВТОВОДСЬКОГО ВІДДІЛУ ГУНП в ДНІПРОПЕТРОВСЬКІЙ ОБЛ.\n",
    "2)\n",
    "АВДІЇВСЬКЕ ВІДДІЛЕННЯ ПОЛІЦІЇ ПОКРОВСЬКОГО ВІДДІЛУ ПОЛІЦІЇ ГУНП В ДОНЕЦЬКІЙ ОБЛ.\n",
    "ЛЕБЕДИНСЬКЕ ВІДДІЛЕННЯ ПОЛІЦІЇ СУМСЬКОГО РАЙОННОГО ВІДДІЛУ ПОЛІЦІЇ ГУНП В СУМСЬКІЙ ОБЛАСТІ\n",
    "КІРОВОГРАДСЬКЕ РАЙОННЕ ВІДДІЛЕННЯ ПОЛІЦІЇ КРОПИВНИЦЬКОГО ВІДДІЛУ ПОЛІЦІЇ ГУНП В КІРОВОГРАДСЬКІЙ ОБЛАСТІ\n",
    "3)\n",
    "ДНІПРОВСЬКИЙ ВІДДІЛ ПОЛІЦІЇ ГУНП В ДНІПРОПЕТРОВСЬКІЙ ОБЛ.\n",
    "4)\n",
    "ЧЕЧЕЛІВСЬКЕ ВІДДІЛЕННЯ ПОЛІЦІЇ ДНІПРОВСЬКОГО ВІДДІЛУ ГУНП В ДНІПРОПЕТРОВСЬКІЙ ОБЛ.\n",
    "П'ЯТИХАТСЬКЕ ВІДДІЛЕННЯ ПОЛІЦІЇ ЖОВТОВОДСЬКОГО ВІДДІЛУ ГУНП в ДНІПРОПЕТРОВСЬКІЙ ОБЛ.\n",
    "ПІВДЕННЕ ВІДДІЛЕННЯ ПОЛІЦІЇ КАМ`ЯНСЬКОГО ВІДДІЛУ ГУНП В ДНІПРОПЕТРОВСЬКІЙ ОБЛ.\n",
    "ДНІПРОВСЬКЕ РАЙОННЕ ВІДДІЛЕННЯ ПОЛІЦІЇ ДНІПРОВСЬКОГО ВІДДІЛУ ГУНП В ДНІПРОПЕТРОВСЬКІЙ ОБЛ.\n",
    "5)\n",
    "ВІДДІЛЕННЯ ПОЛІЦІЇ №2 ПОЛТАВСЬКОГО ВІДДІЛУ ГУНП В ПОЛТАВСЬКІЙ ОБЛАСТІ\n",
    "6)\n",
    "УСАТІВСЬКЕ ВІДДІЛЕННЯ ПОЛІЦІЇ  БІЛЯЇВСЬКОГО ВІДДІЛУ ГУНП ОДЕСЬКІЙ ОБЛАСТІ\n",
    "7)\n",
    "КОРАБЕЛЬНЕ ВІДДІЛЕННЯ ПОЛІЦІЇ ХЕРСОНСЬКОГО ВІДДІЛУ ГУ НП В ХЕРСОНСЬКІЙ ОБЛАСТІ\n",
    "\"\"\"\n",
    "new_regex2 = r\"(?P<area2>.*) (?:УПРАВЛІННЯ|ВІДДІЛЕННЯ|ВІДДІЛ) ПОЛІЦІЇ ГУНП В М. (?P<city2>.*)\"\n",
    "\"\"\"\n",
    "ДЕСНЯНСЬКЕ УПРАВЛІННЯ ПОЛІЦІЇ ГУНП В М. КИЄВІ\n",
    "\n",
    "ДНІПРОВСЬКЕ УПРАВЛІННЯ ПОЛІЦІЇ ГУНП В М. КИЄВІ\n",
    "ДЕСНЯНСЬКЕ УПРАВЛІННЯ ПОЛІЦІЇ ГУНП В М. КИЄВІ\n",
    "СОЛОМ’ЯНСЬКЕ УПРАВЛІННЯ ПОЛІЦІЇ ГУНП В М. КИЄВІ\n",
    "ШЕВЧЕНКІВСЬКЕ УПРАВЛІННЯ ПОЛІЦІЇ ГУНП В М. КИЄВІ\n",
    "ДАРНИЦЬКЕ УПРАВЛІННЯ ПОЛІЦІЇ ГУНП В М. КИЄВІ\n",
    "\"\"\"\n",
    "new_regex3 = r\"(?:(?P<sub_area3>.*) ВІДДІЛЕННЯ ПОЛІЦІЇ )?(?P<area_name3>.*) ВІДДІЛУ? ПОЛІЦІЇ В МІСТІ (?P<city3>.*) ГУ {0,1}НП (?:В|У) (?P<region3>.*) ОБЛАСТІ\"\n",
    "\"\"\"\n",
    "СУВОРОВСЬКИЙ ВІДДІЛ ПОЛІЦІЇ В МІСТІ ОДЕСІ ГУНП В ОДЕСЬКІЙ ОБЛАСТІ\n",
    "ХАДЖИБЕЇВСЬКЕ ВІДДІЛЕННЯ ПОЛІЦІЇ СУВОРОВСЬКОГО ВІДДІЛУ ПОЛІЦІЇ В МІСТІ ОДЕСІ ГУНП В ОДЕСЬКІЙ ОБЛАСТІ\n",
    "\"\"\"\n",
    "\n",
    "new_regex4 = r\"(?:(?P<area4>.*) РВ )?(?:(?P<city4>.*) (?:МВ|МУ) )?ГУМВСУ (?:В|У)? ?(?P<region4>.*) ОБЛ\\.\"\n",
    "\"\"\"\n",
    "СЛОВ’ЯНОСЕРБСЬКИЙ РВ ГУМВСУ У ЛУГАНСЬКІЙ ОБЛ.\n",
    "КІРОВСЬКИЙ МВ ГУМВСУ У ЛУГАНСЬКІЙ ОБЛ.\n",
    "ЖОВТНЕВИЙ РВ ЛУГАНСЬКОГО МУ ГУМВСУ У ЛУГАНСЬКІЙ ОБЛ.\n",
    "\n",
    "КУЙБИШЕВСЬКИЙ РВ ДОНЕЦЬКОГО МУ ГУМВСУ В ДОНЕЦЬКІЙ ОБЛ.\n",
    "БУДЬОНІВСЬКИЙ РВ ДОНЕЦЬКОГО МУ ГУМВСУ В ДОНЕЦЬКІЙ ОБЛ.\n",
    "ПРОЛЕТАРСЬКИЙ РВ ДОНЕЦЬКОГО МУ ГУМВСУ В ДОНЕЦЬКІЙ ОБЛ.\n",
    "СОВЄТСЬКИЙ РВ МАКІЇВСЬКОГО МУ ГУМВСУ В ДОНЕЦЬКІЙ ОБЛ.\n",
    "КІРОВСЬКИЙ РВ МАКІЇВСЬКОГО МУ ГУМВСУ В ДОНЕЦЬКІЙ ОБЛ.\n",
    "\n",
    "ЧЕРВОНОГВАРДІЙСЬКИЙ РВ МАКІЇВСЬКОГО МУ ГУМВСУ ДОНЕЦЬКОЇ ОБЛ.\n",
    "ЦЕНТРАЛЬНО-МІСЬКИЙ РВ МАКІЇВСЬКОГО МУ ГУМВСУ ДОНЕЦЬКОЇ ОБЛ.\n",
    "\"\"\"\n",
    "# TODO: add rule if city4 is None: city4 = sub_area4\n",
    "\"\"\"\n",
    "for next examples:\n",
    "СТАРОБЕШІВСЬКИЙ РВ ГУМВСУ В ДОНЕЦЬКІЙ ОБЛ.\n",
    "АМВРОСІЇВСЬКИЙ РВ ГУМВСУ В ДОНЕЦЬКІЙ ОБЛ.\n",
    "\n",
    "ПЕРВОМАЙСЬКИЙ МВ ГУМВСУ У ЛУГАНСЬКІЙ ОБЛ.\n",
    "КІРОВСЬКИЙ МВ ГУМВСУ В ДОНЕЦЬКІЙ ОБЛ.\n",
    "\"\"\"\n",
    "\n",
    "new_regex5 = r\"(?P<city5>.*) (МВ|РВ|ПВМ|МРВ) ГУ {0,1}МВ {0,1}С УКРАЇНИ( В)? АР КР?ИМ\"\n",
    "\"\"\"\n",
    "ЯЛТИНСЬКЕ МУ СІМФЕРОПОЛЬСЬКОГО МВ ГУМВС УКРАЇНИ В АР КИМ # тому в крим стоїть ?\n",
    "\"\"\"\n",
    "\n",
    "new_regex6 = r\"ГОЛОВНЕ УПРАВЛІННЯ НАЦІОНАЛЬНОЇ ПОЛІЦІЇ (В|У) (?P<city6>.*) ОБЛАСТІ\"\n",
    "new_regex7 = r\"ГОЛОВНЕ УПРАВЛІННЯ НАЦІОНАЛЬНОЇ ПОЛІЦІЇ В( АВТОНОМНІЙ РЕСПУБЛІЦІ КРИМ ТА)? М. (?P<city7>.*)\"\n",
    "\"\"\"\n",
    "ГОЛОВНЕ УПРАВЛІННЯ НАЦІОНАЛЬНОЇ ПОЛІЦІЇ В М. КИЄВІ\n",
    "\"\"\"\n",
    "\n",
    "new_regex8 = r\"(?P<area8>.*) РВ (?P<city8>.*) МУ\"\n",
    "new_regex9 = r\"(?:.*) В М. (?P<city9>КИЄВІ)\"\n",
    "\"\"\"\n",
    "    \"ВІДДІЛ ПОЛІЦІЇ В РІЧКОВОМУ ПОРТУ КИЇВ ГУНП В М. КИЄВІ\")\n",
    "    \"УПРАВЛІННЯ ПОЛІЦІЇ В МЕТРОПОЛІТЕНІ ГУНП В М. КИЄВІ\")\n",
    "    \"ВІДДІЛ ПОЛІЦІЇ НА СТАНЦІЯХ ЗАЛІЗНИЧНОГО ТРАНСПОРТУ ГУНП В М. КИЄВІ\")\n",
    "\"\"\"\n",
    "new_regex10 = \\\n",
    "    r\"(:?\" + r\")|(:?\".join(\n",
    "        [\n",
    "            r\"(?P<city10_1>ЖДАНОВСЬКИЙ) МВВС (?P<region10_1>ДОНЕЦЬКОЇ) ОБЛ.\",\n",
    "            r\"\\(ВИКЛЮЧЕНО\\) ЗЕЛЕНОДОЛЬСЬКЕ ВП (?P<city10_2>НІКОПОЛЬСЬКОГО) ВІДДІЛУ ГУНП В (?P<region10_2>ДНІПРОПЕТРОВСЬКІЙ) ОБЛ.\",\n",
    "            r\"ВІДДІЛ ПОЛІЦІЇ ЗОНИ (?P<city10_3>ЧОРНОБИЛЬСЬКОЇ) АЕС ГУНП В (?P<region10_3>КИЇВСЬКІЙ) ОБЛАСТІ\",\n",
    "            r\"(?P<city10_4>КЕРЧЕНСЬКЕ) ГВ АР Крим\",\n",
    "            r\"ОВСТ ЦЕНТРАЛЬНОГО АЕРОПОРТУ М. (?P<city10_5>СІМФЕРОПОЛЬ) АР КРИМ\",\n",
    "            r\"УКР УМВС В (?P<city10_6>ІВАНО-ФРАНКІВСЬКОЇ) ОБЛ.\",\n",
    "            r\"ЦЕНТРАЛЬНО-МІСЬКИЙ РВ (?P<city10_7>ГОРЛІВСЬКОГО) МУ ГУМВСУ ДОНЕЦЬКОЇ ОБЛ\",\n",
    "        ]) + r\")\""
   ],
   "metadata": {
    "collapsed": false
   }
  },
  {
   "cell_type": "code",
   "execution_count": null,
   "outputs": [],
   "source": [
    "# Перевірка одного regex\n",
    "# regex = new_regex8\n",
    "# tmp_match = df[df.OVD.apply(lambda s: bool(re.match(regex, s, flags=re.IGNORECASE)))]\n",
    "# tmp_match.OVD.unique()"
   ],
   "metadata": {
    "collapsed": false
   }
  },
  {
   "cell_type": "markdown",
   "source": [
    "### Regex test"
   ],
   "metadata": {
    "collapsed": false
   }
  },
  {
   "cell_type": "code",
   "execution_count": null,
   "outputs": [],
   "source": [
    "l_regexes = [\n",
    "    new_regex1,\n",
    "    new_regex2,\n",
    "    new_regex3,\n",
    "    new_regex4,\n",
    "    new_regex5,\n",
    "    new_regex6,\n",
    "    new_regex7,\n",
    "    new_regex8,\n",
    "    new_regex9,\n",
    "    new_regex10,\n",
    "]\n",
    "regex = r\"(:?\" + \\\n",
    "        r\")|(:?\".join(\n",
    "            l_regexes\n",
    "        ) + r\")\"\n",
    "\n",
    "not_match = df[df.OVD.apply(lambda s: not bool(re.match(regex, s, flags=re.IGNORECASE)))]\n",
    "match = df[df.OVD.apply(lambda s: bool(re.match(regex, s, flags=re.IGNORECASE)))]\n",
    "\n",
    "assert not len(not_match), f\"Деякі рядки не заматчились під regex {len(not_match)=} {len(match)=}\"\n",
    "if len(not_match):\n",
    "    print(not_match.OVD.unique())"
   ],
   "metadata": {
    "collapsed": false
   }
  },
  {
   "cell_type": "markdown",
   "source": [
    "### Розпаршування результатів"
   ],
   "metadata": {
    "collapsed": false
   }
  },
  {
   "cell_type": "code",
   "execution_count": null,
   "outputs": [],
   "source": [
    "info = df.OVD.apply(lambda s: re.match(regex, s, flags=re.IGNORECASE))\n",
    "data = []\n",
    "with open('data.csv', 'w') as f, open(\"broken.csv\", \"w\") as bf:\n",
    "    f.write(f\"index,area,city,region\\n\")\n",
    "    bf.write(\"|\".join(df.columns) + \"\\n\")\n",
    "    for index, match in info.items():\n",
    "        group = match.groupdict()\n",
    "\n",
    "        area = [group[k] for k in group if k.startswith(\"area\") and group[k] is not None]\n",
    "        area = (area and area[0]) or None\n",
    "        city = [group[k] for k in group if k.startswith(\"city\") and group[k] is not None]\n",
    "        city = (city and city[0]) or None\n",
    "        if group[\"city4\"] is None and group[\"area4\"] is not None:\n",
    "            # this works ok\n",
    "            city = group[\"area4\"]\n",
    "        if group[\"city1\"] is None and group[\"region1\"] is not None:\n",
    "            city = group[\"region1\"]\n",
    "\n",
    "        region = [group[k] for k in group if k.startswith(\"region\") and group[k] is not None]\n",
    "        region = (region and region[0]) or None\n",
    "        if not city:\n",
    "            bf.write(\"|\".join(map(str, df.loc[index].tolist())) + \"\\n\")\n",
    "        f.write(f\"{index},{area},{city},{region}\\n\")\n",
    "\n",
    "        data.append((region, city, area,))\n",
    "\n",
    "df[[\"region\", \"city\", \"area\"]] = data\n",
    "df.head()"
   ],
   "metadata": {
    "collapsed": false
   }
  },
  {
   "cell_type": "markdown",
   "source": [
    "## Стартові питання до набору даних:\n",
    "- В яких регіонах зафіксована найбільша кількість безвісно зниклих осіб?\n",
    "- Як розподіляються безвісно зниклі за роком зникнення та регіоном?\n",
    "- Як розподіляються безвісно зниклі за роком зникнення, регіоном та статтю?\n",
    "- Як розподіляються безвісно зниклі за роком народження або віком на момент зникнення та статтю?\n",
    "- Як розподіляються безвісно зниклі за роком або ж роком і місяцем зникнення та статтю?"
   ],
   "metadata": {
    "collapsed": false
   }
  },
  {
   "cell_type": "code",
   "execution_count": null,
   "outputs": [],
   "source": [
    "import numpy as np"
   ],
   "metadata": {
    "collapsed": false
   }
  },
  {
   "cell_type": "code",
   "execution_count": null,
   "outputs": [],
   "source": [
    "input_data = df[[\"AGE\", \"SEX\"]]\n",
    "\n",
    "bins = [0, 14, 24, 50, 65, np.ceil(df.AGE.max())]\n",
    "labels = ['0-14', '14-24', '24-50', '50-65', f'65-{int(np.ceil(df.AGE.max()))}']\n",
    "index = input_data.SEX == \"ЖІНОЧА\"\n",
    "input_data.loc[index, 'AGE_CATEGORY'] = pd.cut(x=input_data[index].AGE, bins=bins, labels=labels, include_lowest=True)\n",
    "input_data.loc[~index, 'AGE_CATEGORY'] = pd.cut(x=input_data[~index].AGE, bins=bins, labels=labels, include_lowest=True)\n",
    "input_data = input_data.groupby(by=[\"SEX\", 'AGE_CATEGORY'])[\"SEX\", 'AGE_CATEGORY'].value_counts().reset_index() #.value_counts().reset_index()\n",
    "input_data.rename(columns={0: \"amount\"}, inplace=True)"
   ],
   "metadata": {
    "collapsed": false
   }
  },
  {
   "cell_type": "code",
   "execution_count": null,
   "outputs": [],
   "source": [
    "# Як розподіляються безвісно зниклі за роком народження або віком на момент зникнення та статтю?\n",
    "\n",
    "alt.Chart(input_data).mark_bar().encode(\n",
    "    x=alt.X(\"AGE_CATEGORY:O\"),\n",
    "    y=alt.Y(\"amount:Q\"),\n",
    "    column=alt.Column(\"SEX:N\"),\n",
    "    color=alt.Color(\"SEX:N\"),\n",
    ").properties(width=300, height=600)"
   ],
   "metadata": {
    "collapsed": false
   }
  },
  {
   "cell_type": "markdown",
   "source": [
    "# Export до html"
   ],
   "metadata": {
    "collapsed": false
   }
  },
  {
   "cell_type": "code",
   "execution_count": null,
   "outputs": [],
   "source": [
    "! jupyter nbconvert --to html project.ipynb\n",
    "! mv project.html index.html"
   ],
   "metadata": {
    "collapsed": false
   }
  },
  {
   "cell_type": "code",
   "execution_count": null,
   "outputs": [],
   "source": [],
   "metadata": {
    "collapsed": false
   }
  }
 ],
 "metadata": {
  "kernelspec": {
   "display_name": "Python 3 (ipykernel)",
   "language": "python",
   "name": "python3"
  },
  "language_info": {
   "codemirror_mode": {
    "name": "ipython",
    "version": 3
   },
   "file_extension": ".py",
   "mimetype": "text/x-python",
   "name": "python",
   "nbconvert_exporter": "python",
   "pygments_lexer": "ipython3",
   "version": "3.9.16"
  }
 },
 "nbformat": 4,
 "nbformat_minor": 4
}
